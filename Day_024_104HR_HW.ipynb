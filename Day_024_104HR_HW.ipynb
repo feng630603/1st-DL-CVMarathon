{
 "cells": [
  {
   "cell_type": "code",
   "execution_count": 1,
   "metadata": {},
   "outputs": [],
   "source": [
    "'''\n",
    "104人力銀行網站爬蟲練習\n",
    "從104人力銀行網站爬取求職公司資訊。\n",
    "'''\n",
    "import time\n",
    "from bs4 import BeautifulSoup\n",
    "from selenium import webdriver\n",
    "from selenium.webdriver.common.keys import Keys"
   ]
  },
  {
   "cell_type": "code",
   "execution_count": 2,
   "metadata": {},
   "outputs": [],
   "source": [
    "'''\n",
    "首先進入104人力銀行網站：https://www.104.com.tw/cust/list/index/\n",
    "在\"地區\"及\"產業\"下拉式選單中，選擇你希望的選項，然後按下\"找公司\"按鈕。\n",
    "image.png\n",
    "\n",
    "開啟新網頁後，觀察新的網址內容，把網址複製下來。\n",
    "'''\n",
    "job_104_url = \"https://www.104.com.tw/cust/list/index/?page=1&order=1&mode=s&jobsource=checkc&area=6001001000&indcat=1001002000\""
   ]
  },
  {
   "cell_type": "code",
   "execution_count": null,
   "metadata": {},
   "outputs": [],
   "source": [
    "browser = webdriver.Chrome()\n",
    "browser.get(job_104_url)  # 打開瀏覽器並連到網頁\n",
    "time.sleep(2)  # delay一段時間等待網頁更新完成\n",
    "\n",
    "while True:\n",
    "    time.sleep(5)  # delay一段時間等待網頁更新完成\n",
    "    html = browser.page_source\n",
    "    soup = BeautifulSoup(html, 'lxml')\n",
    "    company_list = soup.find(\"div\", attrs={'id':\"company-result\"}).find_all(\"article\", attrs={'class':\"items\"})\n",
    "    \n",
    "    #\n",
    "    # 擷取公司名稱及簡介內容\n",
    "    #\n",
    "    for company in company_list:\n",
    "        # 因為內容太多，我們把爬取到的結果，寫入\"company_list.txt\"檔案中，稍後再來檢視\n",
    "        company_name = company.a.string\n",
    "        f = open(\"company_list.txt\", \"a+\", encoding='utf-8')\n",
    "        f.write( company_name + \"\\n\" )  # 寫入公司名稱\n",
    "        \n",
    "        company_desc = company.find(\"p\", attrs={'class':\"desc\"})\n",
    "        f.write( company_desc.string + \"\\n\" )  # 寫入公司簡介\n",
    "        f.write( \"--------------------------------------------------------------------------------\" + \"\\n\" )\n",
    "        f.close()\n",
    "\n",
    "    '''\n",
    "    \n",
    "    接下來請學員練習，定位到「下一頁」按鈕。(可以利用find_element_by_link_text(\"xxx\")的函式)\n",
    "    如果還有下一頁，利用Selenium模擬click「下一頁」按鈕的動作。(定位到物件後，利用其click()屬性)\n",
    "    若沒有下一頁了，離開爬取的流程\n",
    "    \n",
    "    Your code here\n",
    "    \n",
    "    '''\n",
    "    # 定位到「下一頁」按鈕\n",
    "    next_button = browser.find_element_by_link_text(\"下一頁\")\n",
    "    button_status = next_button.get_attribute('class')  # 查看目前按鈕屬性\n",
    "    if (button_status == \"page-next disabled\"):  # 檢查是否還有下一頁\n",
    "        print(\"==========沒有下一頁了==========\")\n",
    "        break\n",
    "    \n",
    "    next_button.click()  # 模擬點選「下一頁」按鈕\n",
    "    "
   ]
  },
  {
   "cell_type": "code",
   "execution_count": null,
   "metadata": {},
   "outputs": [],
   "source": []
  }
 ],
 "metadata": {
  "kernelspec": {
   "display_name": "Python 3",
   "language": "python",
   "name": "python3"
  },
  "language_info": {
   "codemirror_mode": {
    "name": "ipython",
    "version": 3
   },
   "file_extension": ".py",
   "mimetype": "text/x-python",
   "name": "python",
   "nbconvert_exporter": "python",
   "pygments_lexer": "ipython3",
   "version": "3.7.3"
  }
 },
 "nbformat": 4,
 "nbformat_minor": 4
}
