{
 "cells": [
  {
   "cell_type": "code",
   "execution_count": 6,
   "metadata": {},
   "outputs": [],
   "source": [
    "import scrapy\n",
    "class EttodaySpider(scrapy.Spider):\n",
    "    name ='ettoday'\n",
    "    allowed_domains=['www.ettoday.net']\n",
    "    start_urls=['https://www.ettoday.net/news/20201004/1824032.htm']\n",
    "    def parse(self,response):\n",
    "        pass"
   ]
  },
  {
   "cell_type": "code",
   "execution_count": 7,
   "metadata": {},
   "outputs": [],
   "source": [
    "import scrapy\n",
    "class EttodaySpider(scrapy.Spider):\n",
    "    allowed_domains=['www.ettoday.net']\n",
    "    start_urls=['https://www.ettoday.net/news/20201004/1824032.htm']\n",
    "    def parse(self,response):\n",
    "        title=response.xpath('/xpath/of/title').get()\n",
    "        content=response.xpath('xpath/of/content').getall()\n",
    "        print(title)\n",
    "        print(content)"
   ]
  },
  {
   "cell_type": "code",
   "execution_count": null,
   "metadata": {},
   "outputs": [],
   "source": []
  }
 ],
 "metadata": {
  "kernelspec": {
   "display_name": "Python 3",
   "language": "python",
   "name": "python3"
  },
  "language_info": {
   "codemirror_mode": {
    "name": "ipython",
    "version": 3
   },
   "file_extension": ".py",
   "mimetype": "text/x-python",
   "name": "python",
   "nbconvert_exporter": "python",
   "pygments_lexer": "ipython3",
   "version": "3.7.3"
  }
 },
 "nbformat": 4,
 "nbformat_minor": 4
}
