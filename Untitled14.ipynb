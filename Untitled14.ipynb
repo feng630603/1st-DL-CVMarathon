{
 "cells": [
  {
   "cell_type": "code",
   "execution_count": 1,
   "metadata": {},
   "outputs": [],
   "source": [
    "import requests\n",
    "import time\n",
    "from bs4 import BeautifulSoup\n",
    "from selenium import webdriver\n",
    "from selenium.webdriver.common.keys import Keys"
   ]
  },
  {
   "cell_type": "code",
   "execution_count": 2,
   "metadata": {},
   "outputs": [],
   "source": [
    "ETtoday_url = \"https://www.ettoday.net/news/focus/%E8%B2%A1%E7%B6%93/\"  #財經新聞"
   ]
  },
  {
   "cell_type": "code",
   "execution_count": null,
   "metadata": {},
   "outputs": [],
   "source": [
    "browser = webdriver.Chrome()\n",
    "browser.get(ETtoday_url)  # 打開瀏覽器並連到東森新聞雲網頁\n",
    "\n",
    "SCROLL_PAUSE_TIME = 1\n",
    "\n",
    "#\n",
    "# 以下是用Selenium模擬下拉網頁動作，讓網頁更新\n",
    "#\n",
    "last_height = browser.execute_script(\"window.scrollTo(0, document.body.scrollHeight);\")\n",
    "while True:\n",
    "    '''\n",
    "    Your code here\n",
    "    \n",
    "    提示：可參考以下的Stack Overflow: \n",
    "    https://stackoverflow.com/questions/48850974/selenium-scroll-to-end-of-page-indynamically-loading-webpage/48851166\n",
    "    '''"
   ]
  },
  {
   "cell_type": "code",
   "execution_count": null,
   "metadata": {},
   "outputs": [],
   "source": [
    "#\n",
    "# 這裡先建立一個函數，其功能是連到外部連結，並爬取新聞內容。\n",
    "#\n",
    "def getNewsDetailContent(link_url):\n",
    "    resp = requests.get(link_url)\n",
    "    resp.encoding = 'utf-8'\n",
    "    #print(resp.text)\n",
    "\n",
    "    soup = BeautifulSoup(resp.text, 'lxml')\n",
    "    news_content = soup.find(\"div\", attrs={'class':'story'}).find_all(\"p\")\n",
    "    for p in news_content:\n",
    "        \"\"\"\n",
    "        .string屬性說明：\n",
    "        (1) 若當前tag節點底下沒有其他tag子節點，會直接抓取內容(返回\"NavigableString\")\n",
    "        (2) 若當前tag節點底下只有唯一的一個tag子節點，也會直接抓取tag子節點的內容(返回\"NavigableString\")\n",
    "        (3) 但若當前tag節點底下還有很多個tag子節點，.string就無法判斷，(返回\"None\")\n",
    "        \"\"\"\n",
    "        if ((p.string) is not None):\n",
    "            print(p.string)"
   ]
  },
  {
   "cell_type": "code",
   "execution_count": null,
   "metadata": {},
   "outputs": [],
   "source": [
    "# 爬取網頁內容，解析後萃取新聞摘要\n",
    "html = browser.page_source\n",
    "soup = BeautifulSoup(html, \"lxml\")\n",
    "all_news = soup.find(\"div\", attrs={'class':'block block_1 infinite_scroll'})\n",
    "\n",
    "news_block = all_news.find_all('div', attrs={'class':'piece clearfix'})\n",
    "\n",
    "for i, news_item in enumerate(news_block):\n",
    "    print(\"----------------------------------------------------------------------\")\n",
    "    news_body = news_item.find('h3')\n",
    "    print(\"\\n[%d] %s\\n\" % (i, news_body.a.string))\n",
    "    \n",
    "    # \n",
    "    # 連到外部連結，擷取詳細新聞內容\n",
    "    #\n",
    "    externalLink = \"https://www.ettoday.net\" + news_body.a[\"href\"]\n",
    "    getNewsDetailContent(externalLink)"
   ]
  },
  {
   "cell_type": "code",
   "execution_count": null,
   "metadata": {},
   "outputs": [],
   "source": []
  }
 ],
 "metadata": {
  "kernelspec": {
   "display_name": "Python 3",
   "language": "python",
   "name": "python3"
  },
  "language_info": {
   "codemirror_mode": {
    "name": "ipython",
    "version": 3
   },
   "file_extension": ".py",
   "mimetype": "text/x-python",
   "name": "python",
   "nbconvert_exporter": "python",
   "pygments_lexer": "ipython3",
   "version": "3.7.3"
  }
 },
 "nbformat": 4,
 "nbformat_minor": 4
}
