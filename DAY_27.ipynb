{
 "cells": [
  {
   "cell_type": "code",
   "execution_count": 13,
   "metadata": {},
   "outputs": [],
   "source": [
    "# -*- coding: utf-8 -*-\n",
    "\n",
    "# Define here the models for your scraped items\n",
    "#\n",
    "# See documentation in:\n",
    "# https://doc.scrapy.org/en/latest/topics/items.html\n",
    "\n",
    "import scrapy\n",
    "\n",
    "\n",
    "class ScrapyDemoItem(scrapy.Item):\n",
    "    # define the fields for your item here like:\n",
    "    # name = scrapy.Field()\n",
    "    title = scrapy.Field()\n",
    "    content = scrapy.Field()\n",
    "    pass\n"
   ]
  },
  {
   "cell_type": "code",
   "execution_count": 14,
   "metadata": {},
   "outputs": [],
   "source": [
    "# -*- coding: utf-8 -*-\n",
    "import scrapy\n",
    "\n",
    "\n",
    "\n",
    "class EttodaySpider(scrapy.Spider):\n",
    "    name = 'ettoday'\n",
    "    allowed_domains = ['www.ettoday.net']\n",
    "    start_urls = ['https://www.ettoday.net/news/20201004/1824032.htm',\n",
    "                  'https://www.ettoday.net/news/20201009/1826868.htm']\n",
    "\n",
    "    def parse(self, response):\n",
    "        item = ScrapyDemoItem()\n",
    "        item['title'] = response.xpath('//title/text()').get()\n",
    "        item['content'] = response.xpath('//div[@itemprop=\"articleBody\"]//p/text()').getall()\n",
    "        yield item"
   ]
  },
  {
   "cell_type": "code",
   "execution_count": 15,
   "metadata": {},
   "outputs": [],
   "source": [
    "# -*- coding: utf-8 -*-\n",
    "import scrapy\n",
    "\n",
    "\n",
    "\n",
    "class EttodaySpider(scrapy.Spider):\n",
    "    name = 'ettoday'\n",
    "    allowed_domains = ['www.ettoday.net']\n",
    "    start_urls = ['https://www.ettoday.net/news/20201004/1824032.htm',\n",
    "                  'https://www.ettoday.net/news/20201009/1826868.htm']\n",
    "\n",
    "    def parse(self, response):\n",
    "        item = ScrapyDemoItem()\n",
    "        item['title'] = response.xpath('//title/text()').get()\n",
    "        item['content'] = response.xpath('//div[@itemprop=\"articleBody\"]//p/text()').getall()\n",
    "        yield item\n"
   ]
  },
  {
   "cell_type": "code",
   "execution_count": null,
   "metadata": {},
   "outputs": [],
   "source": []
  }
 ],
 "metadata": {
  "kernelspec": {
   "display_name": "Python 3",
   "language": "python",
   "name": "python3"
  },
  "language_info": {
   "codemirror_mode": {
    "name": "ipython",
    "version": 3
   },
   "file_extension": ".py",
   "mimetype": "text/x-python",
   "name": "python",
   "nbconvert_exporter": "python",
   "pygments_lexer": "ipython3",
   "version": "3.7.3"
  }
 },
 "nbformat": 4,
 "nbformat_minor": 4
}
